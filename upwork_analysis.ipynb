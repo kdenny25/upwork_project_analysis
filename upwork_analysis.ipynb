{
 "cells": [
  {
   "cell_type": "markdown",
   "source": [
    "# Upwork Analysis of Data Projects\n",
    "\n",
    "I wanted to jump into freelance work with my background in data and programming. There are just a few issues for new freelancers that are just starting out. First, you don't have any ratings to show your worth. Second, what kind of work are potential employers looking for and what is a competitive price for that work.\n",
    "\n",
    "This analysis seeks to find the correlation between freelancers with high rating, the services they provide and the prices they offer."
   ],
   "metadata": {
    "collapsed": false
   }
  },
  {
   "cell_type": "code",
   "execution_count": 2,
   "outputs": [],
   "source": [
    "import pandas as pd\n",
    "import nltk\n",
    "import matplotlib.pyplot as plt\n",
    "import seaborn as sns\n"
   ],
   "metadata": {
    "collapsed": false
   }
  },
  {
   "cell_type": "code",
   "execution_count": 6,
   "outputs": [
    {
     "name": "stdout",
     "output_type": "stream",
     "text": [
      "<class 'pandas.core.frame.DataFrame'>\n",
      "Int64Index: 984 entries, 0 to 983\n",
      "Data columns (total 5 columns):\n",
      " #   Column       Non-Null Count  Dtype  \n",
      "---  ------       --------------  -----  \n",
      " 0   title        984 non-null    object \n",
      " 1   price        984 non-null    float64\n",
      " 2   rating       984 non-null    float64\n",
      " 3   num_ratings  984 non-null    int64  \n",
      " 4   url          984 non-null    object \n",
      "dtypes: float64(2), int64(1), object(2)\n",
      "memory usage: 38.4+ KB\n"
     ]
    }
   ],
   "source": [
    "# load the dataset\n",
    "projects_df = pd.read_csv('./data/upwork_projects.csv', index_col='Unnamed: 0')\n",
    "\n",
    "projects_df.info()"
   ],
   "metadata": {
    "collapsed": false
   }
  },
  {
   "cell_type": "markdown",
   "source": [
    "984 entries is not a lot. The original search showed around 40,000 projects for the search term 'data'. I believe there might be some type of reset feature when the count gets close to 1000. That said, the assumption is made that we can determine a trend given data we have.\n",
    "\n",
    "Before jumping into an analysis of the titles lets take a look at the distribution of price, rating and num_ratings."
   ],
   "metadata": {
    "collapsed": false
   }
  },
  {
   "cell_type": "code",
   "execution_count": null,
   "outputs": [],
   "source": [],
   "metadata": {
    "collapsed": false
   }
  }
 ],
 "metadata": {
  "kernelspec": {
   "display_name": "Python 3",
   "language": "python",
   "name": "python3"
  },
  "language_info": {
   "codemirror_mode": {
    "name": "ipython",
    "version": 2
   },
   "file_extension": ".py",
   "mimetype": "text/x-python",
   "name": "python",
   "nbconvert_exporter": "python",
   "pygments_lexer": "ipython2",
   "version": "2.7.6"
  }
 },
 "nbformat": 4,
 "nbformat_minor": 0
}
